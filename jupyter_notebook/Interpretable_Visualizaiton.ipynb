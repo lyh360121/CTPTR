{
 "cells": [
  {
   "cell_type": "code",
   "execution_count": 1,
   "id": "fdc39e0d",
   "metadata": {},
   "outputs": [],
   "source": [
    "import torch\n",
    "import sys\n",
    "import folium\n",
    "import matplotlib.pyplot as plt\n",
    "sys.path.append('../')\n",
    "\n",
    "from models.model_utils import AttrDict, load_rid_freqs, get_rid_rnfea_dict, load_rn_dict, toseq\n",
    "from models.transformer import TransformerModel, DecoderMulti, Encoder\n",
    "from models.multi_train import evaluate, init_weights, train\n",
    "from common.mbr import MBR\n",
    "from common.road_network import load_rn_shp\n",
    "from models.datasets import Dataset, collate_fn"
   ]
  },
  {
   "cell_type": "code",
   "execution_count": 2,
   "id": "b645d86f",
   "metadata": {},
   "outputs": [],
   "source": [
    "def plot_attention(attention, input_seq, output_seq):\n",
    "    \"\"\"\n",
    "    Plots a heatmap of attention weights.\n",
    "    \n",
    "    :param attention: A 2D numpy array of attention weights.\n",
    "    :param input_seq: List of input tokens.\n",
    "    :param output_seq: List of output tokens.\n",
    "    \"\"\"\n",
    "    fig, ax = plt.subplots()\n",
    "    cax = ax.matshow(attention, cmap='bone')\n",
    "    fig.colorbar(cax)\n",
    "\n",
    "    # Set up axes\n",
    "    ax.set_xticklabels([''] + input_seq, rotation=90)\n",
    "    ax.set_yticklabels([''] + output_seq)\n",
    "\n",
    "    # Show label at every tick\n",
    "    ax.xaxis.set_major_locator(plt.MultipleLocator(1))\n",
    "    ax.yaxis.set_major_locator(plt.MultipleLocator(1))\n",
    "    plt.savefig('attention.png')\n",
    "    plt.show()"
   ]
  },
  {
   "cell_type": "code",
   "execution_count": 3,
   "id": "46091d3f",
   "metadata": {},
   "outputs": [],
   "source": [
    "args = AttrDict()\n",
    "device = torch.device('cuda')\n",
    "args_dict = {'pcm': True, 'module_type': 'test', 'debug': False, 'device': device, 'load_pretrained_flag': False, 'model_old_path': '', 'train_flag': True, 'test_flag': False, 'attn_flag': True, 'dis_prob_mask_flag': False, 'search_dist': 50, 'beta': 15, 'tandem_fea_flag': False, 'pro_features_flag': False, 'online_features_flag': False, 'rid_fea_dim': 8, 'pro_input_dim': 25, 'pro_output_dim': 8, 'poi_num': 5, 'online_dim': 10, 'poi_type': 'company,food,shopping,viewpoint,house', 'min_lat': 41.149, 'min_lng': -8.634, 'max_lat': 41.154, 'max_lng': -8.629, 'keep_ratio': 0.25, 'grid_size': 50, 'time_span': 15, 'win_size': 25, 'ds_type': 'random', 'split_flag': False, 'shuffle': True, 'hid_dim': 512, 'id_emb_dim': 128, 'dropout': 0.4, 'id_size': 781, 'lambda1': 10, 'n_epochs': 50, 'batch_size': 32, 'learning_rate': 0.0001, 'tf_ratio': 0.5, 'clip': 1, 'log_step': 1, 'nhead': 4, 'nlayers': 1, 'max_xid': 12, 'max_yid': 9}\n",
    "args.update(args_dict)"
   ]
  },
  {
   "cell_type": "code",
   "execution_count": 4,
   "id": "43d664c1",
   "metadata": {},
   "outputs": [
    {
     "name": "stdout",
     "output_type": "stream",
     "text": [
      "# of nodes:444\n",
      "# of edges:780\n"
     ]
    },
    {
     "name": "stderr",
     "output_type": "stream",
     "text": [
      "100%|███████████████████████████████████████████████████████████████████████████████| 500/500 [00:01<00:00, 397.32it/s]\n"
     ]
    }
   ],
   "source": [
    "test_trajs_dir = \"../data/model_data/test_data/\"\n",
    "rn_dir = \"../data/map/road_network/\"\n",
    "extra_info_dir = \"../data/map/extra_info/\"\n",
    "\n",
    "new2raw_rid_dict = load_rid_freqs(extra_info_dir, file_name='new2raw_rid.json')\n",
    "raw2new_rid_dict = load_rid_freqs(extra_info_dir, file_name='raw2new_rid.json')\n",
    "rn_dict = load_rn_dict(extra_info_dir, file_name='rn_dict.json')\n",
    "rid_features_dict = get_rid_rnfea_dict(rn_dict, args)\n",
    "rn = load_rn_shp(rn_dir, is_directed=True)\n",
    "mbr = MBR(args.min_lat, args.min_lng, args.max_lat, args.max_lng)\n",
    "test_dataset = Dataset(\n",
    "    test_trajs_dir,\n",
    "    mbr,\n",
    "    None,\n",
    "    None,\n",
    "    None,\n",
    "    rn,\n",
    "    new2raw_rid_dict,\n",
    "    parameters=args,\n",
    "    is_test=True,\n",
    "    debug=False\n",
    ")"
   ]
  },
  {
   "cell_type": "code",
   "execution_count": 5,
   "id": "95f77a9e",
   "metadata": {},
   "outputs": [
    {
     "data": {
      "text/plain": [
       "TransformerModel(\n",
       "  (pos_embedding): PositionalEncoding(\n",
       "    (dropout): Dropout(p=0.4, inplace=False)\n",
       "  )\n",
       "  (transformer_encoder): CustomTransformerEncoder(\n",
       "    (layers): ModuleList(\n",
       "      (0): CustomEncoderLayer(\n",
       "        (self_attn): MultiheadAttention(\n",
       "          (out_proj): NonDynamicallyQuantizableLinear(in_features=512, out_features=512, bias=True)\n",
       "        )\n",
       "        (linear1): Linear(in_features=512, out_features=2048, bias=True)\n",
       "        (dropout): Dropout(p=0.1, inplace=False)\n",
       "        (linear2): Linear(in_features=2048, out_features=512, bias=True)\n",
       "        (norm1): LayerNorm((512,), eps=1e-05, elementwise_affine=True)\n",
       "        (norm2): LayerNorm((512,), eps=1e-05, elementwise_affine=True)\n",
       "        (dropout1): Dropout(p=0.1, inplace=False)\n",
       "        (dropout2): Dropout(p=0.1, inplace=False)\n",
       "        (activation): ReLU()\n",
       "      )\n",
       "    )\n",
       "  )\n",
       "  (transformer_decoder): CustomTransformerDecoder(\n",
       "    (layers): ModuleList(\n",
       "      (0): CustomDecoderLayer(\n",
       "        (self_attn): CustomMultiheadAttention(\n",
       "          (qkv_linear): Linear(in_features=512, out_features=1536, bias=True)\n",
       "          (out_linear): Linear(in_features=512, out_features=512, bias=True)\n",
       "          (dropout): Dropout(p=0.1, inplace=False)\n",
       "        )\n",
       "        (multihead_attn): MultiheadAttention(\n",
       "          (out_proj): NonDynamicallyQuantizableLinear(in_features=512, out_features=512, bias=True)\n",
       "        )\n",
       "        (linear1): Linear(in_features=512, out_features=2048, bias=True)\n",
       "        (dropout): Dropout(p=0.1, inplace=False)\n",
       "        (linear2): Linear(in_features=2048, out_features=512, bias=True)\n",
       "        (norm1): LayerNorm((512,), eps=1e-05, elementwise_affine=True)\n",
       "        (norm2): LayerNorm((512,), eps=1e-05, elementwise_affine=True)\n",
       "        (norm3): LayerNorm((512,), eps=1e-05, elementwise_affine=True)\n",
       "        (dropout1): Dropout(p=0.1, inplace=False)\n",
       "        (dropout2): Dropout(p=0.1, inplace=False)\n",
       "        (dropout3): Dropout(p=0.1, inplace=False)\n",
       "        (activation): ReLU()\n",
       "      )\n",
       "    )\n",
       "  )\n",
       "  (spe_transformer_decoder): CustomTransformerDecoder(\n",
       "    (layers): ModuleList(\n",
       "      (0): CustomDecoderLayer(\n",
       "        (self_attn): CustomMultiheadAttention(\n",
       "          (qkv_linear): Linear(in_features=512, out_features=1536, bias=True)\n",
       "          (out_linear): Linear(in_features=512, out_features=512, bias=True)\n",
       "          (dropout): Dropout(p=0.1, inplace=False)\n",
       "        )\n",
       "        (multihead_attn): MultiheadAttention(\n",
       "          (out_proj): NonDynamicallyQuantizableLinear(in_features=512, out_features=512, bias=True)\n",
       "        )\n",
       "        (linear1): Linear(in_features=512, out_features=2048, bias=True)\n",
       "        (dropout): Dropout(p=0.1, inplace=False)\n",
       "        (linear2): Linear(in_features=2048, out_features=512, bias=True)\n",
       "        (norm1): LayerNorm((512,), eps=1e-05, elementwise_affine=True)\n",
       "        (norm2): LayerNorm((512,), eps=1e-05, elementwise_affine=True)\n",
       "        (norm3): LayerNorm((512,), eps=1e-05, elementwise_affine=True)\n",
       "        (dropout1): Dropout(p=0.1, inplace=False)\n",
       "        (dropout2): Dropout(p=0.1, inplace=False)\n",
       "        (dropout3): Dropout(p=0.1, inplace=False)\n",
       "        (activation): ReLU()\n",
       "      )\n",
       "    )\n",
       "  )\n",
       "  (encoder_id): Embedding(781, 511)\n",
       "  (encoder): Encoder(\n",
       "    (emb_id_x): Embedding(13, 512)\n",
       "    (emb_id_y): Embedding(10, 512)\n",
       "    (in_proj): Linear(in_features=1025, out_features=512, bias=True)\n",
       "  )\n",
       "  (decoder): DecoderMulti(\n",
       "    (emb_id): Embedding(781, 128)\n",
       "    (tandem_fc): Sequential(\n",
       "      (0): Linear(in_features=640, out_features=512, bias=True)\n",
       "      (1): ReLU()\n",
       "    )\n",
       "    (fc_id_out): Linear(in_features=512, out_features=781, bias=True)\n",
       "    (fc_rate_out): Linear(in_features=512, out_features=1, bias=True)\n",
       "    (dropout): Dropout(p=0.4, inplace=False)\n",
       "  )\n",
       "  (spe_linear): Linear(in_features=513, out_features=512, bias=True)\n",
       "  (spe_encoder): CustomTransformerEncoder(\n",
       "    (layers): ModuleList(\n",
       "      (0): CustomEncoderLayer(\n",
       "        (self_attn): MultiheadAttention(\n",
       "          (out_proj): NonDynamicallyQuantizableLinear(in_features=512, out_features=512, bias=True)\n",
       "        )\n",
       "        (linear1): Linear(in_features=512, out_features=2048, bias=True)\n",
       "        (dropout): Dropout(p=0.1, inplace=False)\n",
       "        (linear2): Linear(in_features=2048, out_features=512, bias=True)\n",
       "        (norm1): LayerNorm((512,), eps=1e-05, elementwise_affine=True)\n",
       "        (norm2): LayerNorm((512,), eps=1e-05, elementwise_affine=True)\n",
       "        (dropout1): Dropout(p=0.1, inplace=False)\n",
       "        (dropout2): Dropout(p=0.1, inplace=False)\n",
       "        (activation): ReLU()\n",
       "      )\n",
       "    )\n",
       "  )\n",
       "  (memory_attention): MultiheadAttention(\n",
       "    (out_proj): NonDynamicallyQuantizableLinear(in_features=512, out_features=512, bias=True)\n",
       "  )\n",
       ")"
      ]
     },
     "execution_count": 5,
     "metadata": {},
     "output_type": "execute_result"
    }
   ],
   "source": [
    "enc = Encoder(args)\n",
    "dec = DecoderMulti(args)\n",
    "model = TransformerModel(enc, dec, args, rn, new2raw_rid_dict, raw2new_rid_dict).to(device)\n",
    "model.apply(init_weights)"
   ]
  },
  {
   "cell_type": "code",
   "execution_count": 6,
   "id": "389d4d81",
   "metadata": {},
   "outputs": [
    {
     "data": {
      "text/plain": [
       "<All keys matched successfully>"
      ]
     },
     "execution_count": 6,
     "metadata": {},
     "output_type": "execute_result"
    }
   ],
   "source": [
    "model_path = '../results/test0.25_gs_50_lam_10_attn_True_prob_False_fea_False_20240604_145416/'\n",
    "model.load_state_dict(torch.load(model_path + 'val-best-model.pt', map_location=device))\n",
    "# model.load_state_dict(torch.load(model_path + 'train-mid-model.pt'))"
   ]
  },
  {
   "cell_type": "code",
   "execution_count": 7,
   "id": "fe3549da",
   "metadata": {},
   "outputs": [
    {
     "name": "stdout",
     "output_type": "stream",
     "text": [
      "test dataset shape: 7647\n"
     ]
    }
   ],
   "source": [
    "print('test dataset shape: ' + str(len(test_dataset)))\n",
    "test_iterator = torch.utils.data.DataLoader(test_dataset, batch_size=args.batch_size,\n",
    "    shuffle=False, collate_fn=collate_fn,\n",
    "    num_workers=4, pin_memory=True)"
   ]
  },
  {
   "cell_type": "code",
   "execution_count": 8,
   "id": "a67d80f4",
   "metadata": {},
   "outputs": [],
   "source": [
    "for i, batch in enumerate(test_iterator):\n",
    "#     if i<5:\n",
    "#         continue\n",
    "    src_grid_seqs, src_gps_seqs, src_pro_feas, src_lengths, trg_gps_seqs, trg_rids, trg_rates, trg_lengths = batch\n",
    "    src_pro_feas = src_pro_feas.float().to(device)\n",
    "    max_trg_len = max(trg_lengths)\n",
    "    batch_size = src_grid_seqs.size(0)\n",
    "    constraint_mat = torch.zeros(max_trg_len, batch_size, args.id_size).to(device)\n",
    "    pre_grids = torch.zeros(max_trg_len, batch_size, 3).to(device)\n",
    "    next_grids = torch.zeros(max_trg_len, batch_size, 3).to(device)\n",
    "    src_grid_seqs = src_grid_seqs.permute(1, 0, 2).to(device)\n",
    "    trg_gps_seqs = trg_gps_seqs.permute(1, 0, 2).to(device)\n",
    "    trg_rids = trg_rids.permute(1, 0, 2).long().to(device)\n",
    "    trg_rates = trg_rates.permute(1, 0, 2).to(device)\n",
    "    break"
   ]
  },
  {
   "cell_type": "code",
   "execution_count": null,
   "id": "0c972f4d",
   "metadata": {},
   "outputs": [],
   "source": [
    "src_grid_seqs.shape"
   ]
  },
  {
   "cell_type": "code",
   "execution_count": 10,
   "id": "bcd25e36",
   "metadata": {},
   "outputs": [],
   "source": [
    "output_ids, output_rates, attention_weights = model(src_grid_seqs, src_lengths, trg_rids, trg_rates, trg_lengths,\n",
    "     pre_grids, next_grids, constraint_mat,\n",
    "     src_pro_feas, None, rid_features_dict,\n",
    "     teacher_forcing_ratio=0)\n",
    "\n",
    "output_rates = output_rates.squeeze(2)\n",
    "output_seqs = toseq(rn_dict, output_ids, output_rates, args)\n",
    "output_seqs = output_seqs.permute(1,0,2)\n",
    "trg_gps_seqs = trg_gps_seqs.permute(1,0,2)"
   ]
  },
  {
   "cell_type": "code",
   "execution_count": 11,
   "id": "7401ffad",
   "metadata": {},
   "outputs": [],
   "source": [
    "gt = trg_gps_seqs[:,1:]\n",
    "pred = output_seqs[:,1:]\n",
    "ls = src_gps_seqs[:,1:]"
   ]
  },
  {
   "cell_type": "code",
   "execution_count": 53,
   "id": "6241750a",
   "metadata": {},
   "outputs": [
    {
     "data": {
      "text/html": [
       "<div style=\"width:100%;\"><div style=\"position:relative;width:100%;height:0;padding-bottom:60%;\"><span style=\"color:#565656\">Make this Notebook Trusted to load map: File -> Trust Notebook</span><iframe srcdoc=\"&lt;!DOCTYPE html&gt;\n",
       "&lt;head&gt;    \n",
       "    &lt;meta http-equiv=&quot;content-type&quot; content=&quot;text/html; charset=UTF-8&quot; /&gt;\n",
       "    \n",
       "        &lt;script&gt;\n",
       "            L_NO_TOUCH = false;\n",
       "            L_DISABLE_3D = false;\n",
       "        &lt;/script&gt;\n",
       "    \n",
       "    &lt;style&gt;html, body {width: 100%;height: 100%;margin: 0;padding: 0;}&lt;/style&gt;\n",
       "    &lt;style&gt;#map {position:absolute;top:0;bottom:0;right:0;left:0;}&lt;/style&gt;\n",
       "    &lt;script src=&quot;https://cdn.jsdelivr.net/npm/leaflet@1.6.0/dist/leaflet.js&quot;&gt;&lt;/script&gt;\n",
       "    &lt;script src=&quot;https://code.jquery.com/jquery-1.12.4.min.js&quot;&gt;&lt;/script&gt;\n",
       "    &lt;script src=&quot;https://maxcdn.bootstrapcdn.com/bootstrap/3.2.0/js/bootstrap.min.js&quot;&gt;&lt;/script&gt;\n",
       "    &lt;script src=&quot;https://cdnjs.cloudflare.com/ajax/libs/Leaflet.awesome-markers/2.0.2/leaflet.awesome-markers.js&quot;&gt;&lt;/script&gt;\n",
       "    &lt;link rel=&quot;stylesheet&quot; href=&quot;https://cdn.jsdelivr.net/npm/leaflet@1.6.0/dist/leaflet.css&quot;/&gt;\n",
       "    &lt;link rel=&quot;stylesheet&quot; href=&quot;https://maxcdn.bootstrapcdn.com/bootstrap/3.2.0/css/bootstrap.min.css&quot;/&gt;\n",
       "    &lt;link rel=&quot;stylesheet&quot; href=&quot;https://maxcdn.bootstrapcdn.com/bootstrap/3.2.0/css/bootstrap-theme.min.css&quot;/&gt;\n",
       "    &lt;link rel=&quot;stylesheet&quot; href=&quot;https://maxcdn.bootstrapcdn.com/font-awesome/4.6.3/css/font-awesome.min.css&quot;/&gt;\n",
       "    &lt;link rel=&quot;stylesheet&quot; href=&quot;https://cdnjs.cloudflare.com/ajax/libs/Leaflet.awesome-markers/2.0.2/leaflet.awesome-markers.css&quot;/&gt;\n",
       "    &lt;link rel=&quot;stylesheet&quot; href=&quot;https://cdn.jsdelivr.net/gh/python-visualization/folium/folium/templates/leaflet.awesome.rotate.min.css&quot;/&gt;\n",
       "    \n",
       "            &lt;meta name=&quot;viewport&quot; content=&quot;width=device-width,\n",
       "                initial-scale=1.0, maximum-scale=1.0, user-scalable=no&quot; /&gt;\n",
       "            &lt;style&gt;\n",
       "                #map_9d5d1b2c94baef256eefb96981fa071f {\n",
       "                    position: relative;\n",
       "                    width: 100.0%;\n",
       "                    height: 100.0%;\n",
       "                    left: 0.0%;\n",
       "                    top: 0.0%;\n",
       "                }\n",
       "            &lt;/style&gt;\n",
       "        \n",
       "&lt;/head&gt;\n",
       "&lt;body&gt;    \n",
       "    \n",
       "            &lt;div class=&quot;folium-map&quot; id=&quot;map_9d5d1b2c94baef256eefb96981fa071f&quot; &gt;&lt;/div&gt;\n",
       "        \n",
       "&lt;/body&gt;\n",
       "&lt;script&gt;    \n",
       "    \n",
       "            var map_9d5d1b2c94baef256eefb96981fa071f = L.map(\n",
       "                &quot;map_9d5d1b2c94baef256eefb96981fa071f&quot;,\n",
       "                {\n",
       "                    center: [41.1499137878418, -8.630287170410156],\n",
       "                    crs: L.CRS.EPSG3857,\n",
       "                    zoom: 12,\n",
       "                    zoomControl: true,\n",
       "                    preferCanvas: false,\n",
       "                }\n",
       "            );\n",
       "\n",
       "            \n",
       "\n",
       "        \n",
       "    \n",
       "            var tile_layer_63e13624952522a566fdbba9c612e506 = L.tileLayer(\n",
       "                &quot;https://{s}.tile.openstreetmap.org/{z}/{x}/{y}.png&quot;,\n",
       "                {&quot;attribution&quot;: &quot;Data by \\u0026copy; \\u003ca href=\\&quot;http://openstreetmap.org\\&quot;\\u003eOpenStreetMap\\u003c/a\\u003e, under \\u003ca href=\\&quot;http://www.openstreetmap.org/copyright\\&quot;\\u003eODbL\\u003c/a\\u003e.&quot;, &quot;detectRetina&quot;: false, &quot;maxNativeZoom&quot;: 18, &quot;maxZoom&quot;: 18, &quot;minZoom&quot;: 0, &quot;noWrap&quot;: false, &quot;opacity&quot;: 1, &quot;subdomains&quot;: &quot;abc&quot;, &quot;tms&quot;: false}\n",
       "            ).addTo(map_9d5d1b2c94baef256eefb96981fa071f);\n",
       "        \n",
       "    \n",
       "            var marker_2add63267c6242f5c097c02e2231f341 = L.marker(\n",
       "                [41.1499137878418, -8.630287170410156],\n",
       "                {}\n",
       "            ).addTo(map_9d5d1b2c94baef256eefb96981fa071f);\n",
       "        \n",
       "    \n",
       "            var marker_08ceca36ebd69a924ebafe93ca0f66d9 = L.marker(\n",
       "                [41.151084899902344, -8.629279136657715],\n",
       "                {}\n",
       "            ).addTo(map_9d5d1b2c94baef256eefb96981fa071f);\n",
       "        \n",
       "    \n",
       "            var marker_902033b55ad9cc56ef1eb6da7624b74e = L.marker(\n",
       "                [41.151119232177734, -8.629252433776855],\n",
       "                {}\n",
       "            ).addTo(map_9d5d1b2c94baef256eefb96981fa071f);\n",
       "        \n",
       "    \n",
       "            var marker_31f5d9eaa3ef370d688f14b992e22425 = L.marker(\n",
       "                [41.151214599609375, -8.629176139831543],\n",
       "                {}\n",
       "            ).addTo(map_9d5d1b2c94baef256eefb96981fa071f);\n",
       "        \n",
       "    \n",
       "            var marker_87e9419e4d8d778e4322129b74c8198b = L.marker(\n",
       "                [41.15121841430664, -8.62917423248291],\n",
       "                {}\n",
       "            ).addTo(map_9d5d1b2c94baef256eefb96981fa071f);\n",
       "        \n",
       "    \n",
       "            var marker_a7983937f094e8606c37d8046c6fce61 = L.marker(\n",
       "                [41.15125274658203, -8.629148483276367],\n",
       "                {}\n",
       "            ).addTo(map_9d5d1b2c94baef256eefb96981fa071f);\n",
       "        \n",
       "    \n",
       "            var marker_e718c600a979c28f23305da84d449c6b = L.marker(\n",
       "                [0.0, 0.0],\n",
       "                {}\n",
       "            ).addTo(map_9d5d1b2c94baef256eefb96981fa071f);\n",
       "        \n",
       "    \n",
       "            var marker_680e0fc431c20ec3f559bfce8e66c600 = L.marker(\n",
       "                [0.0, 0.0],\n",
       "                {}\n",
       "            ).addTo(map_9d5d1b2c94baef256eefb96981fa071f);\n",
       "        \n",
       "    \n",
       "            var marker_2ef3591561fe7dd040aaaa8a58eba60b = L.marker(\n",
       "                [0.0, 0.0],\n",
       "                {}\n",
       "            ).addTo(map_9d5d1b2c94baef256eefb96981fa071f);\n",
       "        \n",
       "&lt;/script&gt;\" style=\"position:absolute;width:100%;height:100%;left:0;top:0;border:none !important;\" allowfullscreen webkitallowfullscreen mozallowfullscreen></iframe></div></div>"
      ],
      "text/plain": [
       "<folium.folium.Map at 0x28edcdafa20>"
      ]
     },
     "execution_count": 53,
     "metadata": {},
     "output_type": "execute_result"
    }
   ],
   "source": [
    "traj_index = 8\n",
    "m = folium.Map(location=gt[traj_index][0], zoom_start=12)\n",
    "for point in gt[traj_index].tolist():\n",
    "    folium.Marker(point).add_to(m)\n",
    "    \n",
    "m"
   ]
  },
  {
   "cell_type": "code",
   "execution_count": 54,
   "id": "68d5e172",
   "metadata": {},
   "outputs": [
    {
     "data": {
      "text/html": [
       "<div style=\"width:100%;\"><div style=\"position:relative;width:100%;height:0;padding-bottom:60%;\"><span style=\"color:#565656\">Make this Notebook Trusted to load map: File -> Trust Notebook</span><iframe srcdoc=\"&lt;!DOCTYPE html&gt;\n",
       "&lt;head&gt;    \n",
       "    &lt;meta http-equiv=&quot;content-type&quot; content=&quot;text/html; charset=UTF-8&quot; /&gt;\n",
       "    \n",
       "        &lt;script&gt;\n",
       "            L_NO_TOUCH = false;\n",
       "            L_DISABLE_3D = false;\n",
       "        &lt;/script&gt;\n",
       "    \n",
       "    &lt;style&gt;html, body {width: 100%;height: 100%;margin: 0;padding: 0;}&lt;/style&gt;\n",
       "    &lt;style&gt;#map {position:absolute;top:0;bottom:0;right:0;left:0;}&lt;/style&gt;\n",
       "    &lt;script src=&quot;https://cdn.jsdelivr.net/npm/leaflet@1.6.0/dist/leaflet.js&quot;&gt;&lt;/script&gt;\n",
       "    &lt;script src=&quot;https://code.jquery.com/jquery-1.12.4.min.js&quot;&gt;&lt;/script&gt;\n",
       "    &lt;script src=&quot;https://maxcdn.bootstrapcdn.com/bootstrap/3.2.0/js/bootstrap.min.js&quot;&gt;&lt;/script&gt;\n",
       "    &lt;script src=&quot;https://cdnjs.cloudflare.com/ajax/libs/Leaflet.awesome-markers/2.0.2/leaflet.awesome-markers.js&quot;&gt;&lt;/script&gt;\n",
       "    &lt;link rel=&quot;stylesheet&quot; href=&quot;https://cdn.jsdelivr.net/npm/leaflet@1.6.0/dist/leaflet.css&quot;/&gt;\n",
       "    &lt;link rel=&quot;stylesheet&quot; href=&quot;https://maxcdn.bootstrapcdn.com/bootstrap/3.2.0/css/bootstrap.min.css&quot;/&gt;\n",
       "    &lt;link rel=&quot;stylesheet&quot; href=&quot;https://maxcdn.bootstrapcdn.com/bootstrap/3.2.0/css/bootstrap-theme.min.css&quot;/&gt;\n",
       "    &lt;link rel=&quot;stylesheet&quot; href=&quot;https://maxcdn.bootstrapcdn.com/font-awesome/4.6.3/css/font-awesome.min.css&quot;/&gt;\n",
       "    &lt;link rel=&quot;stylesheet&quot; href=&quot;https://cdnjs.cloudflare.com/ajax/libs/Leaflet.awesome-markers/2.0.2/leaflet.awesome-markers.css&quot;/&gt;\n",
       "    &lt;link rel=&quot;stylesheet&quot; href=&quot;https://cdn.jsdelivr.net/gh/python-visualization/folium/folium/templates/leaflet.awesome.rotate.min.css&quot;/&gt;\n",
       "    \n",
       "            &lt;meta name=&quot;viewport&quot; content=&quot;width=device-width,\n",
       "                initial-scale=1.0, maximum-scale=1.0, user-scalable=no&quot; /&gt;\n",
       "            &lt;style&gt;\n",
       "                #map_1497d2491a432a18544120d095948e22 {\n",
       "                    position: relative;\n",
       "                    width: 100.0%;\n",
       "                    height: 100.0%;\n",
       "                    left: 0.0%;\n",
       "                    top: 0.0%;\n",
       "                }\n",
       "            &lt;/style&gt;\n",
       "        \n",
       "&lt;/head&gt;\n",
       "&lt;body&gt;    \n",
       "    \n",
       "            &lt;div class=&quot;folium-map&quot; id=&quot;map_1497d2491a432a18544120d095948e22&quot; &gt;&lt;/div&gt;\n",
       "        \n",
       "&lt;/body&gt;\n",
       "&lt;script&gt;    \n",
       "    \n",
       "            var map_1497d2491a432a18544120d095948e22 = L.map(\n",
       "                &quot;map_1497d2491a432a18544120d095948e22&quot;,\n",
       "                {\n",
       "                    center: [41.150123596191406, -8.630104064941406],\n",
       "                    crs: L.CRS.EPSG3857,\n",
       "                    zoom: 12,\n",
       "                    zoomControl: true,\n",
       "                    preferCanvas: false,\n",
       "                }\n",
       "            );\n",
       "\n",
       "            \n",
       "\n",
       "        \n",
       "    \n",
       "            var tile_layer_b0e2a7062603fab79bb8773d00fca825 = L.tileLayer(\n",
       "                &quot;https://{s}.tile.openstreetmap.org/{z}/{x}/{y}.png&quot;,\n",
       "                {&quot;attribution&quot;: &quot;Data by \\u0026copy; \\u003ca href=\\&quot;http://openstreetmap.org\\&quot;\\u003eOpenStreetMap\\u003c/a\\u003e, under \\u003ca href=\\&quot;http://www.openstreetmap.org/copyright\\&quot;\\u003eODbL\\u003c/a\\u003e.&quot;, &quot;detectRetina&quot;: false, &quot;maxNativeZoom&quot;: 18, &quot;maxZoom&quot;: 18, &quot;minZoom&quot;: 0, &quot;noWrap&quot;: false, &quot;opacity&quot;: 1, &quot;subdomains&quot;: &quot;abc&quot;, &quot;tms&quot;: false}\n",
       "            ).addTo(map_1497d2491a432a18544120d095948e22);\n",
       "        \n",
       "    \n",
       "            var marker_90d81173889beffcba3550eaacd92c59 = L.marker(\n",
       "                [41.150123596191406, -8.630104064941406],\n",
       "                {}\n",
       "            ).addTo(map_1497d2491a432a18544120d095948e22);\n",
       "        \n",
       "    \n",
       "            var marker_1c0036500757a24f0773315b7d3c5333 = L.marker(\n",
       "                [41.15117645263672, -8.629206657409668],\n",
       "                {}\n",
       "            ).addTo(map_1497d2491a432a18544120d095948e22);\n",
       "        \n",
       "    \n",
       "            var marker_5b6e48529d1d11c577d710e83986e12e = L.marker(\n",
       "                [41.15116500854492, -8.629216194152832],\n",
       "                {}\n",
       "            ).addTo(map_1497d2491a432a18544120d095948e22);\n",
       "        \n",
       "    \n",
       "            var marker_65607653a4c4b410b27ffd2baf634f3f = L.marker(\n",
       "                [41.150901794433594, -8.629396438598633],\n",
       "                {}\n",
       "            ).addTo(map_1497d2491a432a18544120d095948e22);\n",
       "        \n",
       "    \n",
       "            var marker_7847f333f671f2c0de882dad0aadc0ae = L.marker(\n",
       "                [41.15087890625, -8.629347801208496],\n",
       "                {}\n",
       "            ).addTo(map_1497d2491a432a18544120d095948e22);\n",
       "        \n",
       "    \n",
       "            var marker_879efb831f7611e24c2eb28ecdf630c8 = L.marker(\n",
       "                [41.150875091552734, -8.629338264465332],\n",
       "                {}\n",
       "            ).addTo(map_1497d2491a432a18544120d095948e22);\n",
       "        \n",
       "    \n",
       "            var marker_36f4d5adbe1803d88cfef3edd4844a77 = L.marker(\n",
       "                [0.0, 0.0],\n",
       "                {}\n",
       "            ).addTo(map_1497d2491a432a18544120d095948e22);\n",
       "        \n",
       "    \n",
       "            var marker_f0d5f80bad320f1e183909b9975f9339 = L.marker(\n",
       "                [0.0, 0.0],\n",
       "                {}\n",
       "            ).addTo(map_1497d2491a432a18544120d095948e22);\n",
       "        \n",
       "    \n",
       "            var marker_ecd77c40105812068e1ca6088dee8751 = L.marker(\n",
       "                [0.0, 0.0],\n",
       "                {}\n",
       "            ).addTo(map_1497d2491a432a18544120d095948e22);\n",
       "        \n",
       "&lt;/script&gt;\" style=\"position:absolute;width:100%;height:100%;left:0;top:0;border:none !important;\" allowfullscreen webkitallowfullscreen mozallowfullscreen></iframe></div></div>"
      ],
      "text/plain": [
       "<folium.folium.Map at 0x28edd376a90>"
      ]
     },
     "execution_count": 54,
     "metadata": {},
     "output_type": "execute_result"
    }
   ],
   "source": [
    "m = folium.Map(location=pred[traj_index][0], zoom_start=12)\n",
    "for point in pred[traj_index].tolist():\n",
    "    folium.Marker(point).add_to(m)\n",
    "    \n",
    "m"
   ]
  },
  {
   "cell_type": "code",
   "execution_count": 55,
   "id": "8e501dbd",
   "metadata": {},
   "outputs": [
    {
     "data": {
      "text/html": [
       "<div style=\"width:100%;\"><div style=\"position:relative;width:100%;height:0;padding-bottom:60%;\"><span style=\"color:#565656\">Make this Notebook Trusted to load map: File -> Trust Notebook</span><iframe srcdoc=\"&lt;!DOCTYPE html&gt;\n",
       "&lt;head&gt;    \n",
       "    &lt;meta http-equiv=&quot;content-type&quot; content=&quot;text/html; charset=UTF-8&quot; /&gt;\n",
       "    \n",
       "        &lt;script&gt;\n",
       "            L_NO_TOUCH = false;\n",
       "            L_DISABLE_3D = false;\n",
       "        &lt;/script&gt;\n",
       "    \n",
       "    &lt;style&gt;html, body {width: 100%;height: 100%;margin: 0;padding: 0;}&lt;/style&gt;\n",
       "    &lt;style&gt;#map {position:absolute;top:0;bottom:0;right:0;left:0;}&lt;/style&gt;\n",
       "    &lt;script src=&quot;https://cdn.jsdelivr.net/npm/leaflet@1.6.0/dist/leaflet.js&quot;&gt;&lt;/script&gt;\n",
       "    &lt;script src=&quot;https://code.jquery.com/jquery-1.12.4.min.js&quot;&gt;&lt;/script&gt;\n",
       "    &lt;script src=&quot;https://maxcdn.bootstrapcdn.com/bootstrap/3.2.0/js/bootstrap.min.js&quot;&gt;&lt;/script&gt;\n",
       "    &lt;script src=&quot;https://cdnjs.cloudflare.com/ajax/libs/Leaflet.awesome-markers/2.0.2/leaflet.awesome-markers.js&quot;&gt;&lt;/script&gt;\n",
       "    &lt;link rel=&quot;stylesheet&quot; href=&quot;https://cdn.jsdelivr.net/npm/leaflet@1.6.0/dist/leaflet.css&quot;/&gt;\n",
       "    &lt;link rel=&quot;stylesheet&quot; href=&quot;https://maxcdn.bootstrapcdn.com/bootstrap/3.2.0/css/bootstrap.min.css&quot;/&gt;\n",
       "    &lt;link rel=&quot;stylesheet&quot; href=&quot;https://maxcdn.bootstrapcdn.com/bootstrap/3.2.0/css/bootstrap-theme.min.css&quot;/&gt;\n",
       "    &lt;link rel=&quot;stylesheet&quot; href=&quot;https://maxcdn.bootstrapcdn.com/font-awesome/4.6.3/css/font-awesome.min.css&quot;/&gt;\n",
       "    &lt;link rel=&quot;stylesheet&quot; href=&quot;https://cdnjs.cloudflare.com/ajax/libs/Leaflet.awesome-markers/2.0.2/leaflet.awesome-markers.css&quot;/&gt;\n",
       "    &lt;link rel=&quot;stylesheet&quot; href=&quot;https://cdn.jsdelivr.net/gh/python-visualization/folium/folium/templates/leaflet.awesome.rotate.min.css&quot;/&gt;\n",
       "    \n",
       "            &lt;meta name=&quot;viewport&quot; content=&quot;width=device-width,\n",
       "                initial-scale=1.0, maximum-scale=1.0, user-scalable=no&quot; /&gt;\n",
       "            &lt;style&gt;\n",
       "                #map_96addfb04bcbd280cd7a669d6f2b66c5 {\n",
       "                    position: relative;\n",
       "                    width: 100.0%;\n",
       "                    height: 100.0%;\n",
       "                    left: 0.0%;\n",
       "                    top: 0.0%;\n",
       "                }\n",
       "            &lt;/style&gt;\n",
       "        \n",
       "&lt;/head&gt;\n",
       "&lt;body&gt;    \n",
       "    \n",
       "            &lt;div class=&quot;folium-map&quot; id=&quot;map_96addfb04bcbd280cd7a669d6f2b66c5&quot; &gt;&lt;/div&gt;\n",
       "        \n",
       "&lt;/body&gt;\n",
       "&lt;script&gt;    \n",
       "    \n",
       "            var map_96addfb04bcbd280cd7a669d6f2b66c5 = L.map(\n",
       "                &quot;map_96addfb04bcbd280cd7a669d6f2b66c5&quot;,\n",
       "                {\n",
       "                    center: [41.14995193481445, -8.630370140075684],\n",
       "                    crs: L.CRS.EPSG3857,\n",
       "                    zoom: 12,\n",
       "                    zoomControl: true,\n",
       "                    preferCanvas: false,\n",
       "                }\n",
       "            );\n",
       "\n",
       "            \n",
       "\n",
       "        \n",
       "    \n",
       "            var tile_layer_6c6f6822d566d2232883fee9b05a7365 = L.tileLayer(\n",
       "                &quot;https://{s}.tile.openstreetmap.org/{z}/{x}/{y}.png&quot;,\n",
       "                {&quot;attribution&quot;: &quot;Data by \\u0026copy; \\u003ca href=\\&quot;http://openstreetmap.org\\&quot;\\u003eOpenStreetMap\\u003c/a\\u003e, under \\u003ca href=\\&quot;http://www.openstreetmap.org/copyright\\&quot;\\u003eODbL\\u003c/a\\u003e.&quot;, &quot;detectRetina&quot;: false, &quot;maxNativeZoom&quot;: 18, &quot;maxZoom&quot;: 18, &quot;minZoom&quot;: 0, &quot;noWrap&quot;: false, &quot;opacity&quot;: 1, &quot;subdomains&quot;: &quot;abc&quot;, &quot;tms&quot;: false}\n",
       "            ).addTo(map_96addfb04bcbd280cd7a669d6f2b66c5);\n",
       "        \n",
       "    \n",
       "            var marker_5aceb3cc4605c6414d99d7682c5f0ed6 = L.marker(\n",
       "                [41.14995193481445, -8.630370140075684],\n",
       "                {}\n",
       "            ).addTo(map_96addfb04bcbd280cd7a669d6f2b66c5);\n",
       "        \n",
       "    \n",
       "            var marker_2fe87f206b9f9f3a1a5b75d4a014eb77 = L.marker(\n",
       "                [41.15119552612305, -8.629128456115723],\n",
       "                {}\n",
       "            ).addTo(map_96addfb04bcbd280cd7a669d6f2b66c5);\n",
       "        \n",
       "    \n",
       "            var marker_7decf033eafa161896dcaf80baa505cb = L.marker(\n",
       "                [41.15120315551758, -8.629037857055664],\n",
       "                {}\n",
       "            ).addTo(map_96addfb04bcbd280cd7a669d6f2b66c5);\n",
       "        \n",
       "&lt;/script&gt;\" style=\"position:absolute;width:100%;height:100%;left:0;top:0;border:none !important;\" allowfullscreen webkitallowfullscreen mozallowfullscreen></iframe></div></div>"
      ],
      "text/plain": [
       "<folium.folium.Map at 0x28edd35dda0>"
      ]
     },
     "execution_count": 55,
     "metadata": {},
     "output_type": "execute_result"
    }
   ],
   "source": [
    "m = folium.Map(location=ls[traj_index][0], zoom_start=12)\n",
    "for point in ls[traj_index].tolist():\n",
    "    folium.Marker(point).add_to(m)\n",
    "m"
   ]
  },
  {
   "cell_type": "code",
   "execution_count": 56,
   "id": "451dc043",
   "metadata": {},
   "outputs": [
    {
     "data": {
      "text/plain": [
       "(10, 4)"
      ]
     },
     "execution_count": 56,
     "metadata": {},
     "output_type": "execute_result"
    }
   ],
   "source": [
    "max(trg_lengths),max(src_lengths)"
   ]
  },
  {
   "cell_type": "code",
   "execution_count": 65,
   "id": "100a4432",
   "metadata": {},
   "outputs": [
    {
     "data": {
      "image/png": "[encoded data removed]",
      "text/plain": [
       "<Figure size 432x288 with 2 Axes>"
      ]
     },
     "metadata": {
      "needs_background": "light"
     },
     "output_type": "display_data"
    }
   ],
   "source": [
    "# plot_attention(attention_weights[1][-1][traj_index].cpu().detach().numpy(), list(range(max(trg_lengths))), list(range(max(trg_lengths))))\n",
    "plot_attention(attention_weights[1][-1][traj_index].cpu().detach().numpy()[:7,:7], list(range(7)),list(range(7)))"
   ]
  },
  {
   "cell_type": "code",
   "execution_count": 58,
   "id": "fe7e82bf",
   "metadata": {},
   "outputs": [
    {
     "data": {
      "text/plain": [
       "torch.Size([4, 4])"
      ]
     },
     "execution_count": 58,
     "metadata": {},
     "output_type": "execute_result"
    }
   ],
   "source": [
    "attention_weights[0][-1][traj_index].shape"
   ]
  },
  {
   "cell_type": "code",
   "execution_count": 59,
   "id": "f3de6da4",
   "metadata": {},
   "outputs": [
    {
     "data": {
      "text/plain": [
       "tensor([[0., 0., 0.],\n",
       "        [3., 7., 1.],\n",
       "        [5., 9., 4.],\n",
       "        [5., 9., 6.]], device='cuda:0')"
      ]
     },
     "execution_count": 59,
     "metadata": {},
     "output_type": "execute_result"
    }
   ],
   "source": [
    "src_grid_seqs[:,traj_index,:]"
   ]
  },
  {
   "cell_type": "code",
   "execution_count": 64,
   "id": "1cb42b82",
   "metadata": {},
   "outputs": [
    {
     "data": {
      "text/plain": [
       "(10, 10)"
      ]
     },
     "execution_count": 64,
     "metadata": {},
     "output_type": "execute_result"
    }
   ],
   "source": [
    "attention_weights[1][-1][traj_index].cpu().detach().numpy().shape"
   ]
  },
  {
   "cell_type": "code",
   "execution_count": null,
   "id": "06d95449",
   "metadata": {},
   "outputs": [],
   "source": []
  }
 ],
 "metadata": {
  "kernelspec": {
   "display_name": "Python 3",
   "language": "python",
   "name": "python3"
  },
  "language_info": {
   "codemirror_mode": {
    "name": "ipython",
    "version": 3
   },
   "file_extension": ".py",
   "mimetype": "text/x-python",
   "name": "python",
   "nbconvert_exporter": "python",
   "pygments_lexer": "ipython3",
   "version": "3.6.13"
  }
 },
 "nbformat": 4,
 "nbformat_minor": 5
}

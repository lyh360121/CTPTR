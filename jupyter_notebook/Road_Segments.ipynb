{
 "cells": [
  {
   "cell_type": "code",
   "execution_count": 36,
   "id": "9a3f17bc",
   "metadata": {},
   "outputs": [],
   "source": [
    "import sys\n",
    "import folium\n",
    "sys.path.append('../')\n",
    "\n",
    "from common.road_network import load_rn_shp\n",
    "from models.model_utils import load_rid_freqs"
   ]
  },
  {
   "cell_type": "code",
   "execution_count": 37,
   "id": "a714bd24",
   "metadata": {},
   "outputs": [
    {
     "name": "stdout",
     "output_type": "stream",
     "text": [
      "# of nodes:2205\n",
      "# of edges:2296\n"
     ]
    }
   ],
   "source": [
    "rn_dir = \"../data/map/road_network/\"\n",
    "extra_info_dir = \"../data/map/extra_info/\"\n",
    "raw2new_rid_dict = load_rid_freqs(extra_info_dir, file_name='raw2new_rid.json')\n",
    "rn = load_rn_shp(rn_dir, is_directed=True)"
   ]
  },
  {
   "cell_type": "code",
   "execution_count": 38,
   "id": "30d4562d",
   "metadata": {},
   "outputs": [],
   "source": [
    "edge_idx = {raw2new_rid_dict[key]: tuple([(point[1], point[0]) for point in value]) for key,value in rn.edge_idx.items()}"
   ]
  },
  {
   "cell_type": "code",
   "execution_count": 40,
   "id": "8a9df470",
   "metadata": {},
   "outputs": [
    {
     "data": {
      "text/html": [
       "<div style=\"width:100%;\"><div style=\"position:relative;width:100%;height:0;padding-bottom:60%;\"><span style=\"color:#565656\">Make this Notebook Trusted to load map: File -> Trust Notebook</span><iframe srcdoc=\"&lt;!DOCTYPE html&gt;\n",
       "&lt;head&gt;    \n",
       "    &lt;meta http-equiv=&quot;content-type&quot; content=&quot;text/html; charset=UTF-8&quot; /&gt;\n",
       "    \n",
       "        &lt;script&gt;\n",
       "            L_NO_TOUCH = false;\n",
       "            L_DISABLE_3D = false;\n",
       "        &lt;/script&gt;\n",
       "    \n",
       "    &lt;style&gt;html, body {width: 100%;height: 100%;margin: 0;padding: 0;}&lt;/style&gt;\n",
       "    &lt;style&gt;#map {position:absolute;top:0;bottom:0;right:0;left:0;}&lt;/style&gt;\n",
       "    &lt;script src=&quot;https://cdn.jsdelivr.net/npm/leaflet@1.6.0/dist/leaflet.js&quot;&gt;&lt;/script&gt;\n",
       "    &lt;script src=&quot;https://code.jquery.com/jquery-1.12.4.min.js&quot;&gt;&lt;/script&gt;\n",
       "    &lt;script src=&quot;https://maxcdn.bootstrapcdn.com/bootstrap/3.2.0/js/bootstrap.min.js&quot;&gt;&lt;/script&gt;\n",
       "    &lt;script src=&quot;https://cdnjs.cloudflare.com/ajax/libs/Leaflet.awesome-markers/2.0.2/leaflet.awesome-markers.js&quot;&gt;&lt;/script&gt;\n",
       "    &lt;link rel=&quot;stylesheet&quot; href=&quot;https://cdn.jsdelivr.net/npm/leaflet@1.6.0/dist/leaflet.css&quot;/&gt;\n",
       "    &lt;link rel=&quot;stylesheet&quot; href=&quot;https://maxcdn.bootstrapcdn.com/bootstrap/3.2.0/css/bootstrap.min.css&quot;/&gt;\n",
       "    &lt;link rel=&quot;stylesheet&quot; href=&quot;https://maxcdn.bootstrapcdn.com/bootstrap/3.2.0/css/bootstrap-theme.min.css&quot;/&gt;\n",
       "    &lt;link rel=&quot;stylesheet&quot; href=&quot;https://maxcdn.bootstrapcdn.com/font-awesome/4.6.3/css/font-awesome.min.css&quot;/&gt;\n",
       "    &lt;link rel=&quot;stylesheet&quot; href=&quot;https://cdnjs.cloudflare.com/ajax/libs/Leaflet.awesome-markers/2.0.2/leaflet.awesome-markers.css&quot;/&gt;\n",
       "    &lt;link rel=&quot;stylesheet&quot; href=&quot;https://cdn.jsdelivr.net/gh/python-visualization/folium/folium/templates/leaflet.awesome.rotate.min.css&quot;/&gt;\n",
       "    \n",
       "            &lt;meta name=&quot;viewport&quot; content=&quot;width=device-width,\n",
       "                initial-scale=1.0, maximum-scale=1.0, user-scalable=no&quot; /&gt;\n",
       "            &lt;style&gt;\n",
       "                #map_432f63c618a83b1753c9663581bbefe4 {\n",
       "                    position: relative;\n",
       "                    width: 100.0%;\n",
       "                    height: 100.0%;\n",
       "                    left: 0.0%;\n",
       "                    top: 0.0%;\n",
       "                }\n",
       "            &lt;/style&gt;\n",
       "        \n",
       "&lt;/head&gt;\n",
       "&lt;body&gt;    \n",
       "    \n",
       "            &lt;div class=&quot;folium-map&quot; id=&quot;map_432f63c618a83b1753c9663581bbefe4&quot; &gt;&lt;/div&gt;\n",
       "        \n",
       "&lt;/body&gt;\n",
       "&lt;script&gt;    \n",
       "    \n",
       "            var map_432f63c618a83b1753c9663581bbefe4 = L.map(\n",
       "                &quot;map_432f63c618a83b1753c9663581bbefe4&quot;,\n",
       "                {\n",
       "                    center: [41.1509356, -8.6234203],\n",
       "                    crs: L.CRS.EPSG3857,\n",
       "                    zoom: 12,\n",
       "                    zoomControl: true,\n",
       "                    preferCanvas: false,\n",
       "                }\n",
       "            );\n",
       "\n",
       "            \n",
       "\n",
       "        \n",
       "    \n",
       "            var tile_layer_347c4272967d932acadcf9ef9fbd729b = L.tileLayer(\n",
       "                &quot;https://{s}.tile.openstreetmap.org/{z}/{x}/{y}.png&quot;,\n",
       "                {&quot;attribution&quot;: &quot;Data by \\u0026copy; \\u003ca href=\\&quot;http://openstreetmap.org\\&quot;\\u003eOpenStreetMap\\u003c/a\\u003e, under \\u003ca href=\\&quot;http://www.openstreetmap.org/copyright\\&quot;\\u003eODbL\\u003c/a\\u003e.&quot;, &quot;detectRetina&quot;: false, &quot;maxNativeZoom&quot;: 18, &quot;maxZoom&quot;: 18, &quot;minZoom&quot;: 0, &quot;noWrap&quot;: false, &quot;opacity&quot;: 1, &quot;subdomains&quot;: &quot;abc&quot;, &quot;tms&quot;: false}\n",
       "            ).addTo(map_432f63c618a83b1753c9663581bbefe4);\n",
       "        \n",
       "    \n",
       "            var marker_ce96ba7807fafa6f1ad69d225f852da8 = L.marker(\n",
       "                [41.1509356, -8.6234203],\n",
       "                {}\n",
       "            ).addTo(map_432f63c618a83b1753c9663581bbefe4);\n",
       "        \n",
       "    \n",
       "            var marker_67df8d1685e94b984098497362ec94be = L.marker(\n",
       "                [41.1509666, -8.6234273],\n",
       "                {}\n",
       "            ).addTo(map_432f63c618a83b1753c9663581bbefe4);\n",
       "        \n",
       "&lt;/script&gt;\" style=\"position:absolute;width:100%;height:100%;left:0;top:0;border:none !important;\" allowfullscreen webkitallowfullscreen mozallowfullscreen></iframe></div></div>"
      ],
      "text/plain": [
       "<folium.folium.Map at 0x25fc3b90a58>"
      ]
     },
     "execution_count": 40,
     "metadata": {},
     "output_type": "execute_result"
    }
   ],
   "source": [
    "index = 8\n",
    "start, end = edge_idx[index]\n",
    "m = folium.Map(location=start, zoom_start=12)\n",
    "folium.Marker(start).add_to(m)\n",
    "folium.Marker(end).add_to(m)\n",
    "m"
   ]
  },
  {
   "cell_type": "code",
   "execution_count": 15,
   "id": "3cc8c506",
   "metadata": {},
   "outputs": [
    {
     "data": {
      "text/plain": [
       "{1: ((41.1458486, -8.6108311), (41.1459204, -8.6107847)),\n",
       " 2: ((41.1458486, -8.6108311), (41.1458255, -8.6108337)),\n",
       " 3: ((41.1459204, -8.6107847), (41.1459681, -8.6107605)),\n",
       " 4: ((41.1458255, -8.6108337), (41.1453342, -8.610908)),\n",
       " 5: ((41.1459681, -8.6107605), (41.1460101, -8.610725)),\n",
       " 6: ((41.1460101, -8.610725), (41.1460194, -8.6107172)),\n",
       " 7: ((41.1460194, -8.6107172), (41.1460475, -8.6106678)),\n",
       " 8: ((41.1460475, -8.6106678), (41.1460547, -8.6106536)),\n",
       " 9: ((41.1464575, -8.6112255), (41.1462711, -8.6112671)),\n",
       " 10: ((41.1462711, -8.6112671), (41.1462163, -8.6112793)),\n",
       " 11: ((41.1462163, -8.6112793), (41.1460555, -8.6113163)),\n",
       " 12: ((41.1460555, -8.6113163), (41.1460434, -8.6116329)),\n",
       " 13: ((41.1460434, -8.6116329), (41.1460028, -8.6121002)),\n",
       " 14: ((41.1460028, -8.6121002), (41.1459905, -8.6122361)),\n",
       " 15: ((41.1453342, -8.610908), (41.1452627, -8.6109196)),\n",
       " 16: ((41.1452627, -8.6109196), (41.1451983, -8.6109341)),\n",
       " 17: ((41.1461138, -8.6105488), (41.1462224, -8.6103531)),\n",
       " 18: ((41.1462224, -8.6103531), (41.1462586, -8.6102893)),\n",
       " 19: ((41.1462586, -8.6102893), (41.1465904, -8.6097629)),\n",
       " 20: ((41.1465904, -8.6097629), (41.1466801, -8.6096241)),\n",
       " 21: ((41.1466801, -8.6096241), (41.146735, -8.6094973)),\n",
       " 22: ((41.146735, -8.6094973), (41.146757, -8.6093182)),\n",
       " 23: ((41.146757, -8.6093182), (41.1467864, -8.6090744)),\n",
       " 24: ((41.1467864, -8.6090744), (41.1467951, -8.6090354)),\n",
       " 25: ((41.1467951, -8.6090354), (41.1468128, -8.609007)),\n",
       " 26: ((41.1468128, -8.609007), (41.1469041, -8.6089444)),\n",
       " 27: ((41.1469041, -8.6089444), (41.1472889, -8.6087189)),\n",
       " 28: ((41.1472889, -8.6087189), (41.1473966, -8.6086641)),\n",
       " 29: ((41.1460547, -8.6106536), (41.1461138, -8.6105488))}"
      ]
     },
     "execution_count": 15,
     "metadata": {},
     "output_type": "execute_result"
    }
   ],
   "source": [
    "g = nx.read_shp(path, simplify=True, strict=False)"
   ]
  },
  {
   "cell_type": "code",
   "execution_count": 41,
   "id": "3ad3b145",
   "metadata": {},
   "outputs": [
    {
     "data": {
      "text/html": [
       "<div style=\"width:100%;\"><div style=\"position:relative;width:100%;height:0;padding-bottom:60%;\"><span style=\"color:#565656\">Make this Notebook Trusted to load map: File -> Trust Notebook</span><iframe srcdoc=\"&lt;!DOCTYPE html&gt;\n",
       "&lt;head&gt;    \n",
       "    &lt;meta http-equiv=&quot;content-type&quot; content=&quot;text/html; charset=UTF-8&quot; /&gt;\n",
       "    \n",
       "        &lt;script&gt;\n",
       "            L_NO_TOUCH = false;\n",
       "            L_DISABLE_3D = false;\n",
       "        &lt;/script&gt;\n",
       "    \n",
       "    &lt;style&gt;html, body {width: 100%;height: 100%;margin: 0;padding: 0;}&lt;/style&gt;\n",
       "    &lt;style&gt;#map {position:absolute;top:0;bottom:0;right:0;left:0;}&lt;/style&gt;\n",
       "    &lt;script src=&quot;https://cdn.jsdelivr.net/npm/leaflet@1.6.0/dist/leaflet.js&quot;&gt;&lt;/script&gt;\n",
       "    &lt;script src=&quot;https://code.jquery.com/jquery-1.12.4.min.js&quot;&gt;&lt;/script&gt;\n",
       "    &lt;script src=&quot;https://maxcdn.bootstrapcdn.com/bootstrap/3.2.0/js/bootstrap.min.js&quot;&gt;&lt;/script&gt;\n",
       "    &lt;script src=&quot;https://cdnjs.cloudflare.com/ajax/libs/Leaflet.awesome-markers/2.0.2/leaflet.awesome-markers.js&quot;&gt;&lt;/script&gt;\n",
       "    &lt;link rel=&quot;stylesheet&quot; href=&quot;https://cdn.jsdelivr.net/npm/leaflet@1.6.0/dist/leaflet.css&quot;/&gt;\n",
       "    &lt;link rel=&quot;stylesheet&quot; href=&quot;https://maxcdn.bootstrapcdn.com/bootstrap/3.2.0/css/bootstrap.min.css&quot;/&gt;\n",
       "    &lt;link rel=&quot;stylesheet&quot; href=&quot;https://maxcdn.bootstrapcdn.com/bootstrap/3.2.0/css/bootstrap-theme.min.css&quot;/&gt;\n",
       "    &lt;link rel=&quot;stylesheet&quot; href=&quot;https://maxcdn.bootstrapcdn.com/font-awesome/4.6.3/css/font-awesome.min.css&quot;/&gt;\n",
       "    &lt;link rel=&quot;stylesheet&quot; href=&quot;https://cdnjs.cloudflare.com/ajax/libs/Leaflet.awesome-markers/2.0.2/leaflet.awesome-markers.css&quot;/&gt;\n",
       "    &lt;link rel=&quot;stylesheet&quot; href=&quot;https://cdn.jsdelivr.net/gh/python-visualization/folium/folium/templates/leaflet.awesome.rotate.min.css&quot;/&gt;\n",
       "    \n",
       "            &lt;meta name=&quot;viewport&quot; content=&quot;width=device-width,\n",
       "                initial-scale=1.0, maximum-scale=1.0, user-scalable=no&quot; /&gt;\n",
       "            &lt;style&gt;\n",
       "                #map_35caee617000135f3d752a1b48043e91 {\n",
       "                    position: relative;\n",
       "                    width: 100.0%;\n",
       "                    height: 100.0%;\n",
       "                    left: 0.0%;\n",
       "                    top: 0.0%;\n",
       "                }\n",
       "            &lt;/style&gt;\n",
       "        \n",
       "&lt;/head&gt;\n",
       "&lt;body&gt;    \n",
       "    \n",
       "            &lt;div class=&quot;folium-map&quot; id=&quot;map_35caee617000135f3d752a1b48043e91&quot; &gt;&lt;/div&gt;\n",
       "        \n",
       "&lt;/body&gt;\n",
       "&lt;script&gt;    \n",
       "    \n",
       "            var map_35caee617000135f3d752a1b48043e91 = L.map(\n",
       "                &quot;map_35caee617000135f3d752a1b48043e91&quot;,\n",
       "                {\n",
       "                    center: [41.141975, -8.627057],\n",
       "                    crs: L.CRS.EPSG3857,\n",
       "                    zoom: 12,\n",
       "                    zoomControl: true,\n",
       "                    preferCanvas: false,\n",
       "                }\n",
       "            );\n",
       "\n",
       "            \n",
       "\n",
       "        \n",
       "    \n",
       "            var tile_layer_4e82bf80744f90bae545055a6da544e7 = L.tileLayer(\n",
       "                &quot;https://{s}.tile.openstreetmap.org/{z}/{x}/{y}.png&quot;,\n",
       "                {&quot;attribution&quot;: &quot;Data by \\u0026copy; \\u003ca href=\\&quot;http://openstreetmap.org\\&quot;\\u003eOpenStreetMap\\u003c/a\\u003e, under \\u003ca href=\\&quot;http://www.openstreetmap.org/copyright\\&quot;\\u003eODbL\\u003c/a\\u003e.&quot;, &quot;detectRetina&quot;: false, &quot;maxNativeZoom&quot;: 18, &quot;maxZoom&quot;: 18, &quot;minZoom&quot;: 0, &quot;noWrap&quot;: false, &quot;opacity&quot;: 1, &quot;subdomains&quot;: &quot;abc&quot;, &quot;tms&quot;: false}\n",
       "            ).addTo(map_35caee617000135f3d752a1b48043e91);\n",
       "        \n",
       "    \n",
       "            var marker_43cd2a5a7744c12f71a091aafddb77d5 = L.marker(\n",
       "                [41.141975, -8.627057],\n",
       "                {}\n",
       "            ).addTo(map_35caee617000135f3d752a1b48043e91);\n",
       "        \n",
       "    \n",
       "            var marker_d18c6d96199e6d6a55c1173ef151bef0 = L.marker(\n",
       "                [41.141975, -8.615305],\n",
       "                {}\n",
       "            ).addTo(map_35caee617000135f3d752a1b48043e91);\n",
       "        \n",
       "    \n",
       "            var marker_9eb37a5176beacd66594559c3bdb5c01 = L.marker(\n",
       "                [41.157462, -8.627057],\n",
       "                {}\n",
       "            ).addTo(map_35caee617000135f3d752a1b48043e91);\n",
       "        \n",
       "    \n",
       "            var marker_fc8b3aabd7d7048fcf007ad50dc9cd30 = L.marker(\n",
       "                [41.157462, -8.615305],\n",
       "                {}\n",
       "            ).addTo(map_35caee617000135f3d752a1b48043e91);\n",
       "        \n",
       "&lt;/script&gt;\" style=\"position:absolute;width:100%;height:100%;left:0;top:0;border:none !important;\" allowfullscreen webkitallowfullscreen mozallowfullscreen></iframe></div></div>"
      ],
      "text/plain": [
       "<folium.folium.Map at 0x25fc46e3828>"
      ]
     },
     "execution_count": 41,
     "metadata": {},
     "output_type": "execute_result"
    }
   ],
   "source": [
    "markers = [(41.141975, -8.627057),(41.141975, -8.615305),(41.157462,-8.627057),(41.157462,-8.615305)]\n",
    "m = folium.Map(location=markers[0], zoom_start=12)\n",
    "for point in markers:\n",
    "    folium.Marker(point).add_to(m)\n",
    "m"
   ]
  },
  {
   "cell_type": "code",
   "execution_count": null,
   "id": "b504a245",
   "metadata": {},
   "outputs": [],
   "source": []
  }
 ],
 "metadata": {
  "kernelspec": {
   "display_name": "Python 3",
   "language": "python",
   "name": "python3"
  },
  "language_info": {
   "codemirror_mode": {
    "name": "ipython",
    "version": 3
   },
   "file_extension": ".py",
   "mimetype": "text/x-python",
   "name": "python",
   "nbconvert_exporter": "python",
   "pygments_lexer": "ipython3",
   "version": "3.6.13"
  }
 },
 "nbformat": 4,
 "nbformat_minor": 5
}
